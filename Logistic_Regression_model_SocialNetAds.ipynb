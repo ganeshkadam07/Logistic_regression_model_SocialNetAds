{
 "cells": [
  {
   "cell_type": "markdown",
   "id": "bec6bffc",
   "metadata": {},
   "source": [
    "# Logistic Regression Classifier"
   ]
  },
  {
   "cell_type": "code",
   "execution_count": null,
   "id": "378ec0a7",
   "metadata": {},
   "outputs": [],
   "source": [
    "# Data-->Social_Network_ads"
   ]
  },
  {
   "cell_type": "code",
   "execution_count": null,
   "id": "3a46b9e4",
   "metadata": {},
   "outputs": [],
   "source": [
    "# Importing Libraries\n",
    "import pandas as pd\n",
    "import numpy as np\n",
    "from sklearn.model_selection import train_test_split\n",
    "from sklearn.preprocessing import StandardScaler,LabelEncoder\n",
    "from sklearn.linear_model import LogisticRegression\n",
    "from sklearn.metrics import accuracy_score,confusion_matrix\n",
    "\n",
    "# for Data Visualization\n",
    "import matplotlib.pyplot as plt "
   ]
  },
  {
   "cell_type": "code",
   "execution_count": null,
   "id": "9b2ad0a4",
   "metadata": {},
   "outputs": [],
   "source": [
    "data=pd.read_csv('Social_Network_Ads.csv')"
   ]
  },
  {
   "cell_type": "code",
   "execution_count": null,
   "id": "901982cf",
   "metadata": {},
   "outputs": [],
   "source": [
    "data.head()"
   ]
  },
  {
   "cell_type": "code",
   "execution_count": null,
   "id": "1d1a8487",
   "metadata": {},
   "outputs": [],
   "source": [
    "# EDA --> Exploratory Data Analysis\n",
    "\n",
    "data.shape"
   ]
  },
  {
   "cell_type": "code",
   "execution_count": null,
   "id": "44b0d37b",
   "metadata": {},
   "outputs": [],
   "source": [
    "data.describe"
   ]
  },
  {
   "cell_type": "code",
   "execution_count": null,
   "id": "b3779f1f",
   "metadata": {},
   "outputs": [],
   "source": [
    "data.info"
   ]
  },
  {
   "cell_type": "code",
   "execution_count": null,
   "id": "60419c4a",
   "metadata": {},
   "outputs": [],
   "source": [
    "# Encoding Categorical data into Numeric Data\n",
    "\n",
    "le=LabelEncoder()"
   ]
  },
  {
   "cell_type": "code",
   "execution_count": null,
   "id": "7561490f",
   "metadata": {},
   "outputs": [],
   "source": [
    "data['Gender']=le.fit_transform(data['Gender'])"
   ]
  },
  {
   "cell_type": "code",
   "execution_count": null,
   "id": "533f45e4",
   "metadata": {},
   "outputs": [],
   "source": [
    "data.head()"
   ]
  },
  {
   "cell_type": "code",
   "execution_count": null,
   "id": "17cd8602",
   "metadata": {},
   "outputs": [],
   "source": [
    "# For Training and Testing Data\n",
    "\n",
    "x=data.iloc[:,:-1].values\n",
    "y=data.iloc[:,-1].values"
   ]
  },
  {
   "cell_type": "code",
   "execution_count": null,
   "id": "78bfc255",
   "metadata": {},
   "outputs": [],
   "source": [
    "x"
   ]
  },
  {
   "cell_type": "code",
   "execution_count": null,
   "id": "fb1d2895",
   "metadata": {},
   "outputs": [],
   "source": [
    "# Train and Test Data\n",
    "\n",
    "x_train,x_test,y_train,y_test=train_test_split(x,y,test_size=30,random_state=0)"
   ]
  },
  {
   "cell_type": "code",
   "execution_count": null,
   "id": "27c34e77",
   "metadata": {},
   "outputs": [],
   "source": [
    "# Scale Data using Standard Scalar\n",
    "\n",
    "sc=StandardScaler()"
   ]
  },
  {
   "cell_type": "code",
   "execution_count": null,
   "id": "25c9680b",
   "metadata": {},
   "outputs": [],
   "source": [
    "sc.fit_transform(x_train,x_test)"
   ]
  },
  {
   "cell_type": "code",
   "execution_count": null,
   "id": "19edc37a",
   "metadata": {},
   "outputs": [],
   "source": [
    "# Model Creation Using Logistic Regression\n",
    "\n",
    "lr=LogisticRegression()"
   ]
  },
  {
   "cell_type": "code",
   "execution_count": null,
   "id": "8f478474",
   "metadata": {},
   "outputs": [],
   "source": [
    "# fit Training into Model\n",
    "lr.fit(x_train,y_train)"
   ]
  },
  {
   "cell_type": "code",
   "execution_count": null,
   "id": "ee740718",
   "metadata": {},
   "outputs": [],
   "source": [
    "# making Prediction\n",
    "\n",
    "y_pred=lr.predict(x_test)"
   ]
  },
  {
   "cell_type": "code",
   "execution_count": null,
   "id": "472d7a41",
   "metadata": {},
   "outputs": [],
   "source": [
    "y_pred"
   ]
  },
  {
   "cell_type": "code",
   "execution_count": null,
   "id": "49184731",
   "metadata": {},
   "outputs": [],
   "source": [
    "y_test"
   ]
  },
  {
   "cell_type": "code",
   "execution_count": null,
   "id": "e540a108",
   "metadata": {},
   "outputs": [],
   "source": [
    "# Find accuracy Score and Confusion Metrics\n",
    "\n",
    "Accuracy_Score=accuracy_score(y_test,y_pred)"
   ]
  },
  {
   "cell_type": "code",
   "execution_count": null,
   "id": "3ece9018",
   "metadata": {},
   "outputs": [],
   "source": [
    "Accuracy_Score"
   ]
  },
  {
   "cell_type": "code",
   "execution_count": null,
   "id": "f498f9ef",
   "metadata": {},
   "outputs": [],
   "source": [
    "con_Mat=confusion_matrix(y_test,y_pred)"
   ]
  },
  {
   "cell_type": "code",
   "execution_count": null,
   "id": "faebba42",
   "metadata": {},
   "outputs": [],
   "source": [
    "con_Mat"
   ]
  },
  {
   "cell_type": "code",
   "execution_count": null,
   "id": "570ffb91",
   "metadata": {},
   "outputs": [],
   "source": [
    "from sklearn.metrics import classification_report"
   ]
  },
  {
   "cell_type": "code",
   "execution_count": null,
   "id": "c2889115",
   "metadata": {},
   "outputs": [],
   "source": [
    "cl_report=classification_report(y_test,y_pred)"
   ]
  },
  {
   "cell_type": "code",
   "execution_count": null,
   "id": "f48ce2fe",
   "metadata": {},
   "outputs": [],
   "source": [
    "cl_report"
   ]
  },
  {
   "cell_type": "code",
   "execution_count": null,
   "id": "a07d6cf7",
   "metadata": {},
   "outputs": [],
   "source": [
    "# Visualization \n",
    "x=x_test[:,0]\n",
    "y=x_test[:,-1]"
   ]
  },
  {
   "cell_type": "code",
   "execution_count": null,
   "id": "a67cce68",
   "metadata": {
    "scrolled": true
   },
   "outputs": [],
   "source": [
    "plt.scatter(x,y,c='r')"
   ]
  },
  {
   "cell_type": "code",
   "execution_count": null,
   "id": "425ba665",
   "metadata": {},
   "outputs": [],
   "source": [
    "# For testing Data\n",
    "c=y_test\n",
    "\n",
    "plt.scatter(x,y,c=c)"
   ]
  },
  {
   "cell_type": "code",
   "execution_count": null,
   "id": "fe60647f",
   "metadata": {
    "scrolled": true
   },
   "outputs": [],
   "source": [
    "# for prediction\n",
    "c=y_pred\n",
    "\n",
    "plt.scatter(x,y,c=c)\n",
    "plt.title('on predict model')\n",
    "plt.xlabel('x_test')\n",
    "plt.ylabel('y_pred')"
   ]
  },
  {
   "cell_type": "code",
   "execution_count": null,
   "id": "035ff144",
   "metadata": {},
   "outputs": [],
   "source": [
    "# AOC ROC curve\n",
    "\n",
    "from sklearn.metrics import roc_auc_score,roc_curve"
   ]
  },
  {
   "cell_type": "code",
   "execution_count": null,
   "id": "2996bada",
   "metadata": {},
   "outputs": [],
   "source": [
    "roc_auc_score=roc_auc_score(y_test,y_pred)"
   ]
  },
  {
   "cell_type": "code",
   "execution_count": null,
   "id": "1f430274",
   "metadata": {},
   "outputs": [],
   "source": [
    "roc_auc_score"
   ]
  },
  {
   "cell_type": "code",
   "execution_count": null,
   "id": "03db2a02",
   "metadata": {},
   "outputs": [],
   "source": []
  }
 ],
 "metadata": {
  "kernelspec": {
   "display_name": "Python 3 (ipykernel)",
   "language": "python",
   "name": "python3"
  },
  "language_info": {
   "codemirror_mode": {
    "name": "ipython",
    "version": 3
   },
   "file_extension": ".py",
   "mimetype": "text/x-python",
   "name": "python",
   "nbconvert_exporter": "python",
   "pygments_lexer": "ipython3",
   "version": "3.9.13"
  }
 },
 "nbformat": 4,
 "nbformat_minor": 5
}
